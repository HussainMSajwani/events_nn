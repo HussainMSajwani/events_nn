{
 "cells": [
  {
   "cell_type": "code",
   "execution_count": 42,
   "metadata": {},
   "outputs": [
    {
     "name": "stdout",
     "output_type": "stream",
     "text": [
      "{'bag': '/media/kucarst3-dlws/drive1/tactile-data/data2', 'train_prop': 0.75, 'delta_t': 150000000.0, 'margin': -50000000.0, 'min_n_events': 3500, 'n_init_events': -1, 'downsample_factor': 2, 'center': [180, 117], 'circle_rad': 85, 'case_span': 2660000000.0, 'N_examples': 20, 'possible_angles': [0.017453292519943295, 0.03490658503988659, 0.05235987755982989, 0.06981317007977318, 0.08726646259971647, 0.10471975511965978, 0.12217304763960307, 0.13962634015954636, 0.15707963267948966, 0.17453292519943295], 'theta': 'full', 'augmentations': [], 'filters': ['RemovePhiBiggerThan(max_phi=0.15707963267948966)', '<imports.EventArrayFilter.RemoveNEventsLessThan object at 0x7fb968c2a5c0>'], 'n': 2292, 'node_features': 'pol'}\n"
     ]
    },
    {
     "data": {
      "text/plain": [
       "Data(x=[8061, 1], edge_index=[2, 119776], y=[1, 2], pos=[8061, 3], edge_attr=[119776, 3])"
      ]
     },
     "execution_count": 42,
     "metadata": {},
     "output_type": "execute_result"
    }
   ],
   "source": [
    "from loader.taps import TactileDataset\n",
    "\n",
    "dataset = TactileDataset('/home/hussain/me/projects/events_nn/data/morethan3500ev_lessthan_9deg/train', features='pol')\n",
    "\n",
    "#%%\n",
    "d = dataset[100]\n",
    "d\n",
    "\n"
   ]
  },
  {
   "cell_type": "code",
   "execution_count": 43,
   "metadata": {},
   "outputs": [],
   "source": [
    "import torch\n",
    "from torch_geometric.utils import remove_isolated_nodes\n",
    "from torch_geometric.transforms import LargestConnectedComponents\n",
    "\n",
    "lcc = LargestConnectedComponents(1)\n",
    "\n",
    "data = d.cuda()\n",
    "max_x = 170\n",
    "patch_size = 10\n",
    "\n",
    "data = lcc(data)\n",
    "\n",
    "floor_pos = torch.div(data.pos, patch_size, rounding_mode='floor')\n",
    "node_patch_map = floor_pos[:, 0] * (max_x // patch_size) + floor_pos[:, 1] \n",
    "edges_in_same_patch = node_patch_map[data.edge_index[0]] == node_patch_map[data.edge_index[1]]\n",
    "valid_edges = data.edge_index[:, edges_in_same_patch]\n",
    "valid_edge_attr = data.edge_attr[edges_in_same_patch]\n",
    "edge_patch_map = node_patch_map[valid_edges[0]]\n"
   ]
  },
  {
   "cell_type": "code",
   "execution_count": 44,
   "metadata": {},
   "outputs": [
    {
     "data": {
      "text/plain": [
       "Data(x=[8007, 1], edge_index=[2, 33146], edge_attr=[33146, 3], y=[1, 2], pos=[8007, 3])"
      ]
     },
     "execution_count": 44,
     "metadata": {},
     "output_type": "execute_result"
    }
   ],
   "source": [
    "from torch_geometric.data import Data\n",
    "\n",
    "data1 = Data(x=data.x, edge_index=valid_edges, pos=data.pos, y=data.y, edge_attr=valid_edge_attr).cuda()\n",
    "data1"
   ]
  },
  {
   "cell_type": "code",
   "execution_count": 45,
   "metadata": {},
   "outputs": [
    {
     "data": {
      "text/plain": [
       "torch.Size([8007, 8])"
      ]
     },
     "execution_count": 45,
     "metadata": {},
     "output_type": "execute_result"
    }
   ],
   "source": [
    "from torch_geometric.nn import SplineConv\n",
    "\n",
    "conv = SplineConv(1, 8, dim=3, kernel_size=3).cuda()\n",
    "out = conv(data1.x.cuda(), data1.edge_index.cuda(), data1.edge_attr.cuda())\n",
    "out.shape"
   ]
  },
  {
   "cell_type": "code",
   "execution_count": 50,
   "metadata": {},
   "outputs": [
    {
     "data": {
      "text/plain": [
       "tensor([[ 0.1867, -0.6308, -0.3876,  ...,  0.7682,  0.6510,  0.6300],\n",
       "        [-0.2129,  0.6685,  0.3189,  ..., -0.7267, -0.7104, -0.5730],\n",
       "        [-0.1781,  0.6431,  0.3543,  ..., -0.6893, -0.7263, -0.5997],\n",
       "        ...,\n",
       "        [-0.1836,  0.6426,  0.3872,  ..., -0.7709, -0.6522, -0.6283],\n",
       "        [-0.2115,  0.6666,  0.3929,  ..., -0.7499, -0.6355, -0.6122],\n",
       "        [-0.1867,  0.6308,  0.3876,  ..., -0.7682, -0.6510, -0.6300]],\n",
       "       device='cuda:0', grad_fn=<AddBackward0>)"
      ]
     },
     "execution_count": 50,
     "metadata": {},
     "output_type": "execute_result"
    }
   ],
   "source": [
    "out"
   ]
  },
  {
   "cell_type": "code",
   "execution_count": 51,
   "metadata": {},
   "outputs": [
    {
     "data": {
      "text/plain": [
       "Data(x=[8007, 1], edge_index=[2, 33146], edge_attr=[33146, 3], y=[1, 2], pos=[8007, 3])"
      ]
     },
     "execution_count": 51,
     "metadata": {},
     "output_type": "execute_result"
    }
   ],
   "source": [
    "data1"
   ]
  },
  {
   "cell_type": "code",
   "execution_count": null,
   "metadata": {},
   "outputs": [
    {
     "data": {
      "text/plain": [
       "1389"
      ]
     },
     "execution_count": 19,
     "metadata": {},
     "output_type": "execute_result"
    }
   ],
   "source": [
    "import numpy as np\n",
    "import scipy.sparse as sp\n",
    "from torch_geometric.utils import to_scipy_sparse_matrix\n",
    "\n",
    "adj = to_scipy_sparse_matrix(data1.edge_index, num_nodes=data1.num_nodes)\n",
    "\n",
    "num_components, component = sp.csgraph.connected_components(adj, connection='weak')\n",
    "num_components\n"
   ]
  },
  {
   "cell_type": "code",
   "execution_count": null,
   "metadata": {},
   "outputs": [
    {
     "data": {
      "text/plain": [
       "289"
      ]
     },
     "execution_count": 20,
     "metadata": {},
     "output_type": "execute_result"
    }
   ],
   "source": [
    "17*17"
   ]
  },
  {
   "cell_type": "code",
   "execution_count": null,
   "metadata": {},
   "outputs": [
    {
     "data": {
      "text/plain": [
       "tensor([242., 242., 146.,  ..., 167., 167., 167.])"
      ]
     },
     "execution_count": 31,
     "metadata": {},
     "output_type": "execute_result"
    }
   ],
   "source": [
    "edge_patch_map"
   ]
  },
  {
   "cell_type": "code",
   "execution_count": null,
   "metadata": {},
   "outputs": [
    {
     "data": {
      "text/plain": [
       "tensor([[   4,    3,   22,  ..., 8028, 7908, 7826],\n",
       "        [   3,    4,    7,  ..., 8059, 8060, 8060]])"
      ]
     },
     "execution_count": 32,
     "metadata": {},
     "output_type": "execute_result"
    }
   ],
   "source": [
    "d.edge_index"
   ]
  },
  {
   "cell_type": "code",
   "execution_count": null,
   "metadata": {},
   "outputs": [],
   "source": []
  },
  {
   "cell_type": "code",
   "execution_count": null,
   "metadata": {},
   "outputs": [
    {
     "data": {
      "text/plain": [
       "tensor([  4.,   5.,   6.,   7.,   8.,   9.,  10.,  11.,  20.,  21.,  22.,  23.,\n",
       "         24.,  25.,  26.,  27.,  28.,  29.,  30.,  36.,  37.,  38.,  39.,  40.,\n",
       "         41.,  42.,  43.,  44.,  45.,  46.,  47.,  48.,  52.,  53.,  55.,  56.,\n",
       "         57.,  58.,  59.,  60.,  61.,  62.,  63.,  64.,  65.,  66.,  68.,  69.,\n",
       "         70.,  71.,  72.,  73.,  74.,  75.,  76.,  77.,  78.,  79.,  80.,  81.,\n",
       "         82.,  83.,  84.,  85.,  86.,  87.,  88.,  89.,  90.,  91.,  92.,  93.,\n",
       "         94.,  95.,  96.,  97.,  98.,  99., 100., 101., 102., 103., 104., 105.,\n",
       "        106., 107., 108., 109., 110., 111., 112., 113., 114., 115., 116., 117.,\n",
       "        118., 119., 120., 121., 122., 123., 124., 125., 126., 127., 128., 129.,\n",
       "        130., 131., 132., 133., 134., 135., 136., 137., 138., 139., 140., 141.,\n",
       "        142., 143., 144., 145., 146., 147., 148., 149., 150., 151., 152., 153.,\n",
       "        154., 155., 156., 157., 158., 159., 160., 161., 162., 163., 164., 165.,\n",
       "        166., 167., 168., 169., 170., 171., 172., 173., 174., 175., 176., 177.,\n",
       "        178., 179., 180., 181., 182., 183., 184., 185., 186., 188., 189., 190.,\n",
       "        191., 192., 193., 194., 195., 196., 197., 198., 199., 200., 201., 202.,\n",
       "        203., 205., 207., 208., 209., 210., 211., 212., 213., 214., 215., 216.,\n",
       "        217., 218., 219., 223., 224., 225., 226., 227., 228., 229., 230., 231.,\n",
       "        232., 233., 234., 235., 236., 241., 242., 243., 244., 245., 246., 247.,\n",
       "        248., 250., 251., 252., 258., 259., 260., 264., 265., 266., 267., 268.,\n",
       "        278., 279., 280., 281., 282., 283.])"
      ]
     },
     "execution_count": 15,
     "metadata": {},
     "output_type": "execute_result"
    }
   ],
   "source": [
    "node_patch_map.unique()"
   ]
  },
  {
   "cell_type": "code",
   "execution_count": null,
   "metadata": {},
   "outputs": [
    {
     "data": {
      "text/plain": [
       "<matplotlib.collections.PathCollection at 0x7f6019162eb0>"
      ]
     },
     "execution_count": 33,
     "metadata": {},
     "output_type": "execute_result"
    },
    {
     "data": {
      "image/png": "[encoded data removed]",
      "text/plain": [
       "<Figure size 640x480 with 1 Axes>"
      ]
     },
     "metadata": {},
     "output_type": "display_data"
    }
   ],
   "source": [
    "import matplotlib.pyplot as plt\n",
    "import matplotlib.colors as mcolors\n",
    "\n",
    "plt.xlim(0, 170)\n",
    "plt.ylim(0, 170)\n",
    "\n",
    "for i in range(0, 170, 10):\n",
    "    plt.axvline(i, c='k')\n",
    "    plt.axhline(i, c='k')\n",
    "\n",
    "# for j in range(17**2):\n",
    "#     idx = node_patch_map == j\n",
    "#     plt.scatter(data.pos[idx, 0], data.pos[idx, 1], c=list(mcolors.CSS4_COLORS.keys())[j])\n",
    "\n",
    "plt.scatter(data.pos[:, 0], data.pos[:, 1], c='k')\n",
    "idx = node_patch_map == 242\n",
    "plt.scatter(data.pos[idx, 0], data.pos[idx, 1], c='r')"
   ]
  },
  {
   "cell_type": "code",
   "execution_count": null,
   "metadata": {},
   "outputs": [
    {
     "data": {
      "text/plain": [
       "(tensor([   0,    3,    4,   19,   73,  213, 5841, 6359, 7423]),)"
      ]
     },
     "execution_count": 35,
     "metadata": {},
     "output_type": "execute_result"
    }
   ],
   "source": [
    "torch.where(node_patch_map == 242)"
   ]
  },
  {
   "cell_type": "code",
   "execution_count": null,
   "metadata": {},
   "outputs": [
    {
     "data": {
      "text/plain": [
       "tensor([242.,  45., 154.,  ...,  56., 167.,  24.])"
      ]
     },
     "execution_count": 4,
     "metadata": {},
     "output_type": "execute_result"
    }
   ],
   "source": [
    "node_patch_map"
   ]
  },
  {
   "cell_type": "code",
   "execution_count": null,
   "metadata": {},
   "outputs": [
    {
     "data": {
      "text/plain": [
       "tensor([[   4,    3,   22,  ..., 8028, 7908, 7826],\n",
       "        [   3,    4,    7,  ..., 8059, 8060, 8060]])"
      ]
     },
     "execution_count": 5,
     "metadata": {},
     "output_type": "execute_result"
    }
   ],
   "source": [
    "data.edge_index"
   ]
  },
  {
   "cell_type": "code",
   "execution_count": null,
   "metadata": {},
   "outputs": [
    {
     "data": {
      "text/plain": [
       "tensor([242.,  45., 154.,  ...,  56., 167.,  24.])"
      ]
     },
     "execution_count": 6,
     "metadata": {},
     "output_type": "execute_result"
    }
   ],
   "source": [
    "node_patch_map"
   ]
  },
  {
   "cell_type": "code",
   "execution_count": null,
   "metadata": {},
   "outputs": [
    {
     "data": {
      "text/plain": [
       "tensor([])"
      ]
     },
     "execution_count": 5,
     "metadata": {},
     "output_type": "execute_result"
    }
   ],
   "source": [
    "node_patch_map[data.edge_index[0]]"
   ]
  },
  {
   "cell_type": "code",
   "execution_count": null,
   "metadata": {},
   "outputs": [
    {
     "data": {
      "text/plain": [
       "tensor([[  0,   0],\n",
       "        [  0,   1],\n",
       "        [  0,   2],\n",
       "        ...,\n",
       "        [169, 167],\n",
       "        [169, 168],\n",
       "        [169, 169]])"
      ]
     },
     "execution_count": 10,
     "metadata": {},
     "output_type": "execute_result"
    }
   ],
   "source": [
    "import torch\n",
    "pos = torch.ones((170, 170)).nonzero()\n",
    "pos"
   ]
  },
  {
   "cell_type": "code",
   "execution_count": null,
   "metadata": {},
   "outputs": [
    {
     "data": {
      "text/plain": [
       "17"
      ]
     },
     "execution_count": 14,
     "metadata": {},
     "output_type": "execute_result"
    }
   ],
   "source": [
    "170 // 10"
   ]
  },
  {
   "cell_type": "code",
   "execution_count": null,
   "metadata": {},
   "outputs": [
    {
     "name": "stderr",
     "output_type": "stream",
     "text": [
      "/tmp/ipykernel_23838/2489096943.py:1: UserWarning: __floordiv__ is deprecated, and its behavior will change in a future version of pytorch. It currently rounds toward 0 (like the 'trunc' function NOT 'floor'). This results in incorrect rounding for negative values. To keep the current behavior, use torch.div(a, b, rounding_mode='trunc'), or for actual floor division, use torch.div(a, b, rounding_mode='floor').\n",
      "  (pos // 10).to_dense()\n"
     ]
    },
    {
     "data": {
      "text/plain": [
       "tensor([[ 0,  0],\n",
       "        [ 0,  0],\n",
       "        [ 0,  0],\n",
       "        ...,\n",
       "        [16, 16],\n",
       "        [16, 16],\n",
       "        [16, 16]])"
      ]
     },
     "execution_count": 17,
     "metadata": {},
     "output_type": "execute_result"
    }
   ],
   "source": [
    "(pos // 10).to_dense()"
   ]
  },
  {
   "cell_type": "code",
   "execution_count": null,
   "metadata": {},
   "outputs": [
    {
     "data": {
      "text/plain": [
       "tensor([1, 0])"
      ]
     },
     "execution_count": 25,
     "metadata": {},
     "output_type": "execute_result"
    }
   ],
   "source": [
    "pos[170]"
   ]
  },
  {
   "cell_type": "code",
   "execution_count": null,
   "metadata": {},
   "outputs": [
    {
     "ename": "SyntaxError",
     "evalue": "invalid syntax (1486662894.py, line 1)",
     "output_type": "error",
     "traceback": [
      "\u001b[0;36m  Cell \u001b[0;32mIn[24], line 1\u001b[0;36m\u001b[0m\n\u001b[0;31m    (pos // 10)[]\u001b[0m\n\u001b[0m                ^\u001b[0m\n\u001b[0;31mSyntaxError\u001b[0m\u001b[0;31m:\u001b[0m invalid syntax\n"
     ]
    }
   ],
   "source": [
    "(pos // 10)"
   ]
  },
  {
   "cell_type": "code",
   "execution_count": null,
   "metadata": {},
   "outputs": [
    {
     "data": {
      "text/plain": [
       "tensor([  0,   0,   0,  ..., 288, 288, 288])"
      ]
     },
     "execution_count": 26,
     "metadata": {},
     "output_type": "execute_result"
    }
   ],
   "source": [
    "floor_pos = torch.div(pos, patch_size, rounding_mode='floor')\n",
    "patch_map = floor_pos[:, 0] * (170 // patch_size) + floor_pos[:, 1] \n",
    "patch_map"
   ]
  },
  {
   "cell_type": "code",
   "execution_count": null,
   "metadata": {},
   "outputs": [
    {
     "data": {
      "text/plain": [
       "289"
      ]
     },
     "execution_count": 27,
     "metadata": {},
     "output_type": "execute_result"
    }
   ],
   "source": [
    "17*17"
   ]
  },
  {
   "cell_type": "code",
   "execution_count": null,
   "metadata": {},
   "outputs": [
    {
     "data": {
      "text/plain": [
       "tensor([7., 8., 0.])"
      ]
     },
     "execution_count": 6,
     "metadata": {},
     "output_type": "execute_result"
    }
   ],
   "source": [
    "import torch\n",
    "\n",
    "torch.div(d.pos[0], patch_size, rounding_mode='floor')"
   ]
  }
 ],
 "metadata": {
  "kernelspec": {
   "display_name": "tactile",
   "language": "python",
   "name": "python3"
  },
  "language_info": {
   "codemirror_mode": {
    "name": "ipython",
    "version": 3
   },
   "file_extension": ".py",
   "mimetype": "text/x-python",
   "name": "python",
   "nbconvert_exporter": "python",
   "pygments_lexer": "ipython3",
   "version": "3.8.13"
  },
  "orig_nbformat": 4
 },
 "nbformat": 4,
 "nbformat_minor": 2
}
