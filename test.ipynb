{
 "cells": [
  {
   "cell_type": "code",
   "execution_count": 1,
   "metadata": {},
   "outputs": [
    {
     "name": "stderr",
     "output_type": "stream",
     "text": [
      "/home/hussain/miniconda3/envs/tactile/lib/python3.8/site-packages/torch_geometric/nn/conv/spline_conv.py:133: UserWarning: We do not recommend using the non-optimized CPU version of `SplineConv`. If possible, please move your data to GPU.\n",
      "  warnings.warn(\n"
     ]
    },
    {
     "name": "stdout",
     "output_type": "stream",
     "text": [
      "torch.Size([5, 2, 512])\n"
     ]
    }
   ],
   "source": [
    "# %%\n",
    "from loader.random_circle_loader import RandomCircleDataset\n",
    "from loader.bptt import BPTTGraphLoader\n",
    "\n",
    "dataset = RandomCircleDataset('data/random_circle/', subset='val', config='001')\n",
    "# %%\n",
    "loader = BPTTGraphLoader(dataset, batch_size=2, shuffle=False, seq_len=5)\n",
    "\n",
    "data = next(iter(loader))\n",
    "\n",
    "from models.TactiGraph_lstm import TactiGraph_lstm\n",
    "model = TactiGraph_lstm()\n",
    "\n",
    "out = model(data)"
   ]
  },
  {
   "cell_type": "code",
   "execution_count": 3,
   "metadata": {},
   "outputs": [
    {
     "data": {
      "text/plain": [
       "torch.Size([5, 2, 2])"
      ]
     },
     "execution_count": 3,
     "metadata": {},
     "output_type": "execute_result"
    }
   ],
   "source": [
    "out.shape"
   ]
  },
  {
   "cell_type": "code",
   "execution_count": null,
   "metadata": {},
   "outputs": [],
   "source": []
  },
  {
   "cell_type": "code",
   "execution_count": 4,
   "metadata": {},
   "outputs": [
    {
     "data": {
      "text/plain": [
       "(tensor([[[-0.0436, -0.1060, -0.0655,  ..., -0.2098,  0.0410, -0.0125],\n",
       "          [ 0.1526,  0.0784, -0.1276,  ..., -0.1336,  0.0417, -0.0231]],\n",
       " \n",
       "         [[ 0.0740, -0.0046, -0.1480,  ..., -0.0726,  0.0370, -0.0200],\n",
       "          [-0.0684, -0.0466, -0.0611,  ..., -0.0931,  0.2019, -0.0131]],\n",
       " \n",
       "         [[-0.0309, -0.0806, -0.0263,  ..., -0.0981,  0.1427, -0.0045],\n",
       "          [ 0.1562,  0.0898,  0.1930,  ...,  0.0272,  0.0596, -0.1564]],\n",
       " \n",
       "         [[ 0.1178, -0.0711,  0.3368,  ...,  0.0291, -0.1735, -0.3732],\n",
       "          [ 0.0942,  0.0417, -0.0094,  ...,  0.0246,  0.4030, -0.0076]],\n",
       " \n",
       "         [[ 0.0499, -0.1277, -0.0117,  ..., -0.0018,  0.5490, -0.0105],\n",
       "          [ 0.0055, -0.2056, -0.0058,  ..., -0.0650,  0.4243, -0.0611]]],\n",
       "        grad_fn=<StackBackward0>),\n",
       " (tensor([[[ 0.0499, -0.1277, -0.0117,  ..., -0.0018,  0.5490, -0.0105],\n",
       "           [ 0.0055, -0.2056, -0.0058,  ..., -0.0650,  0.4243, -0.0611]]],\n",
       "         grad_fn=<StackBackward0>),\n",
       "  tensor([[[ 0.7160, -0.2534, -0.0871,  ..., -0.0106,  0.9264, -0.9317],\n",
       "           [ 0.6761, -0.2131, -0.0959,  ..., -0.6425,  1.0015, -0.5145]]],\n",
       "         grad_fn=<StackBackward0>)))"
      ]
     },
     "execution_count": 4,
     "metadata": {},
     "output_type": "execute_result"
    }
   ],
   "source": [
    "out"
   ]
  },
  {
   "cell_type": "code",
   "execution_count": null,
   "metadata": {},
   "outputs": [
    {
     "ename": "AttributeError",
     "evalue": "'tupleBatch' object has no attribute 'stores_as'",
     "output_type": "error",
     "traceback": [
      "\u001b[0;31m---------------------------------------------------------------------------\u001b[0m",
      "\u001b[0;31mAttributeError\u001b[0m                            Traceback (most recent call last)",
      "Cell \u001b[0;32mIn[5], line 7\u001b[0m\n\u001b[1;32m      4\u001b[0m b_0\u001b[39m=\u001b[39m collate(Batch, data[\u001b[39m0\u001b[39m])\n\u001b[1;32m      5\u001b[0m b_1\u001b[39m=\u001b[39m collate(Batch, data[\u001b[39m1\u001b[39m])\n\u001b[0;32m----> 7\u001b[0m collate(Batch, [b_0, b_1])\n",
      "File \u001b[0;32m~/miniconda3/envs/tactile/lib/python3.8/site-packages/torch_geometric/data/collate.py:37\u001b[0m, in \u001b[0;36mcollate\u001b[0;34m(cls, data_list, increment, add_batch, follow_batch, exclude_keys)\u001b[0m\n\u001b[1;32m     34\u001b[0m     out \u001b[39m=\u001b[39m \u001b[39mcls\u001b[39m()\n\u001b[1;32m     36\u001b[0m \u001b[39m# Create empty stores:\u001b[39;00m\n\u001b[0;32m---> 37\u001b[0m out\u001b[39m.\u001b[39;49mstores_as(data_list[\u001b[39m0\u001b[39m])\n\u001b[1;32m     39\u001b[0m follow_batch \u001b[39m=\u001b[39m \u001b[39mset\u001b[39m(follow_batch \u001b[39mor\u001b[39;00m [])\n\u001b[1;32m     40\u001b[0m exclude_keys \u001b[39m=\u001b[39m \u001b[39mset\u001b[39m(exclude_keys \u001b[39mor\u001b[39;00m [])\n",
      "\u001b[0;31mAttributeError\u001b[0m: 'tupleBatch' object has no attribute 'stores_as'"
     ]
    }
   ],
   "source": [
    "from torch_geometric.data import Data, Batch\n",
    "from torch_geometric.data.collate import collate\n",
    "\n",
    "b_0= collate(Batch, data[0])\n",
    "b_1= collate(Batch, data[1])\n",
    "collate(Batch, [b_0, b_1])"
   ]
  }
 ],
 "metadata": {
  "kernelspec": {
   "display_name": "tactile",
   "language": "python",
   "name": "python3"
  },
  "language_info": {
   "codemirror_mode": {
    "name": "ipython",
    "version": 3
   },
   "file_extension": ".py",
   "mimetype": "text/x-python",
   "name": "python",
   "nbconvert_exporter": "python",
   "pygments_lexer": "ipython3",
   "version": "3.8.13"
  },
  "orig_nbformat": 4
 },
 "nbformat": 4,
 "nbformat_minor": 2
}
